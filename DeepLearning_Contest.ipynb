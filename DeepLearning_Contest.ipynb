{
 "cells": [
  {
   "cell_type": "markdown",
   "metadata": {},
   "source": [
    "## AASF + DSC IIITM Gwalior Presents 'Intro to Deep Learning & Kaggle' Session."
   ]
  },
  {
   "cell_type": "markdown",
   "metadata": {},
   "source": [
    "### Hi !\n",
    "#### Welcome! This notebook is for the contest organized with the above session."
   ]
  },
  {
   "cell_type": "markdown",
   "metadata": {},
   "source": [
    "### Instructions: \n",
    "\n",
    "1. Clone this Github repo to run this notebook.\n",
    "\n",
    "2. Run this notebook. You CAN use any platform ie **Kaggle, Colab etc...** to run the notebook.\n",
    "\n",
    "3.  The notebook is well documented with all the necessay instructions provided in between. Kindly carefully read those instructions.   \n",
    "\n",
    "\n",
    "**ANY SUBMISSION VIOLATING THE INSTRUCTIONS IS SUBJECT TO DISQUALIFICATION.**\n",
    "\n",
    "#### 4. ALL THE SUBMISSIONS WILL BE JUDGED FOR THEIR ACCURACY, CODE QUALITY etc. THE DECISION OF THE JUDGES SHALL BE FINAL & ABIDING ON ALL THE PARTICIPANTS.\n"
   ]
  },
  {
   "cell_type": "code",
   "execution_count": 2,
   "metadata": {
    "_uuid": "ed5ad155cf9e33cb85db4f93adaab5cdea950c18"
   },
   "outputs": [
    {
     "name": "stdout",
     "output_type": "stream",
     "text": [
      " \u001b[0m\u001b[01;34manaconda3\u001b[0m/\r\n",
      " ans.csv\r\n",
      " app_reviews.ipynb\r\n",
      "'Collaborative Filtering.ipynb'\r\n",
      "'Decision Trees.ipynb'\r\n",
      " \u001b[01;34mDeepLearning_Contest\u001b[0m/\r\n",
      " \u001b[01;34mDesktop\u001b[0m/\r\n",
      "'Digit Recognizer.ipynb'\r\n",
      " \u001b[01;34mDocuments\u001b[0m/\r\n",
      " \u001b[01;34mDownloads\u001b[0m/\r\n",
      "'facial expresison detector.ipynb'\r\n",
      " Facial_Expression_Training.ipynb\r\n",
      " final_sub.csv\r\n",
      " \u001b[01;34mflowers\u001b[0m/\r\n",
      " \u001b[01;34mhack\u001b[0m/\r\n",
      " hackerearth.ipynb\r\n",
      "'Hierarchy classifier.ipynb'\r\n",
      " \u001b[01;34mhouse_pricing\u001b[0m/\r\n",
      "'House Pricing .ipynb'\r\n",
      " \u001b[01;34mjanata\u001b[0m/\r\n",
      " janatahack.ipynb\r\n",
      " \u001b[01;34mjupyter\u001b[0m/\r\n",
      " kaggle_c.ipynb\r\n",
      " kaggle_linear_regression.ipynb\r\n",
      " KNN.ipynb\r\n",
      " \u001b[01;34mloan_prediction\u001b[0m/\r\n",
      " loan_prediction.ipynb\r\n",
      " \u001b[01;34mMusic\u001b[0m/\r\n",
      " notebook.ipynb\r\n",
      " \u001b[01;34mPictures\u001b[0m/\r\n",
      " polynomialregression.ipynb\r\n",
      " \u001b[01;34mPublic\u001b[0m/\r\n",
      " \u001b[01;34mPycharmProjects\u001b[0m/\r\n",
      " randomforest.ipynb\r\n",
      " recommenders.ipynb\r\n",
      "'recommenders using linear regression.ipynb'\r\n",
      " res.csv\r\n",
      " sub.csv\r\n",
      " svm.ipynb\r\n",
      " \u001b[01;34mTemplates\u001b[0m/\r\n",
      " \u001b[01;34mtitanic\u001b[0m/\r\n",
      " trafficdlsystem.ipynb\r\n",
      " Untitled1.ipynb\r\n",
      " Untitled2.ipynb\r\n",
      " Untitled.ipynb\r\n",
      " \u001b[01;34mvalidation\u001b[0m/\r\n",
      " Verzeo-Major-Project.ipynb\r\n",
      " \u001b[01;34mVideos\u001b[0m/\r\n"
     ]
    }
   ],
   "source": [
    "ls"
   ]
  },
  {
   "cell_type": "markdown",
   "metadata": {
    "_uuid": "1c178c2e36286c15411205c1f0b8ad603e9435c2"
   },
   "source": [
    "## CONTENTS ::"
   ]
  },
  {
   "cell_type": "markdown",
   "metadata": {
    "_uuid": "98bd9332124df7df3b27447a926e433022d9c3c7"
   },
   "source": [
    "[ **1 ) Importing Various Modules**](#content1)"
   ]
  },
  {
   "cell_type": "markdown",
   "metadata": {
    "_uuid": "7fcd7dde6c712afa3f833320ff7638addb5c6a72"
   },
   "source": [
    "[ **2 ) Preparing the Data**](#content2)"
   ]
  },
  {
   "cell_type": "markdown",
   "metadata": {
    "_uuid": "17605176a5dbee7a8d0e9f2bc7c9a9fd0ebd37b1"
   },
   "source": [
    "[ **3 ) Modelling**](#content3)"
   ]
  },
  {
   "cell_type": "markdown",
   "metadata": {
    "_uuid": "cd37b03966854cb4f4576ed34b99e4acd02c8b3f"
   },
   "source": [
    "[ **4 ) Evaluating the Model Performance**](#content4)"
   ]
  },
  {
   "cell_type": "markdown",
   "metadata": {
    "_uuid": "892a9fe20cb70273b84d120b69e8d8cef65c7e80"
   },
   "source": [
    "<a id=\"content1\"></a>\n",
    "## 1 ) Importing Various Modules."
   ]
  },
  {
   "cell_type": "markdown",
   "metadata": {},
   "source": [
    "#### The following cell is for importing the various modules required for coding. \n",
    "\n",
    "#### Some initial modules are loaded for you. If you require any other module, go ahead and import it !!!"
   ]
  },
  {
   "cell_type": "code",
   "execution_count": 3,
   "metadata": {
    "_uuid": "743b574dc8902f9376b0293208139192ed5717d1",
    "id": "z19bVm7o9zeu",
    "outputId": "e6607658-c349-4b88-b29b-bf08b229daa7"
   },
   "outputs": [],
   "source": [
    "# Ignore  the warnings\n",
    "import warnings\n",
    "warnings.filterwarnings('always')\n",
    "warnings.filterwarnings('ignore')\n",
    "\n",
    "# data visualisation and manipulation\n",
    "import numpy as np\n",
    "import pandas as pd\n",
    "import matplotlib.pyplot as plt\n",
    "from matplotlib import style\n",
    "import seaborn as sns\n",
    " \n",
    "#configure\n",
    "# sets matplotlib to inline and displays graphs below the corressponding cell.\n",
    "%matplotlib inline  \n",
    "style.use('fivethirtyeight')\n",
    "sns.set(style='whitegrid',color_codes=True)\n",
    "\n",
    "#model selection and pre-processing\n",
    "from sklearn.model_selection import train_test_split\n",
    "from sklearn.model_selection import KFold\n",
    "from sklearn.metrics import accuracy_score,precision_score,recall_score,confusion_matrix,roc_curve,roc_auc_score\n",
    "from sklearn.model_selection import GridSearchCV\n",
    "from sklearn.preprocessing import LabelEncoder\n",
    "from keras.preprocessing.image import ImageDataGenerator\n",
    "\n",
    "# keras \n",
    "from keras import backend as K\n",
    "from keras.models import Sequential\n",
    "from keras.layers import Dense\n",
    "from keras.optimizers import Adam,SGD,Adagrad,Adadelta,RMSprop\n",
    "from keras.utils import to_categorical\n",
    "from keras.layers import Dropout, Flatten,Activation\n",
    "from keras.layers import Conv2D, MaxPooling2D, BatchNormalization\n",
    "\n",
    "# miscellaneous packages\n",
    "import cv2                  \n",
    "import numpy as np  \n",
    "from tqdm import tqdm\n",
    "import os \n",
    "import random as rn\n",
    "from random import shuffle  \n",
    "from zipfile import ZipFile\n",
    "from PIL import Image"
   ]
  },
  {
   "cell_type": "markdown",
   "metadata": {
    "_uuid": "c24f32b5ef905f9c4df2a020be4419a77c80237e"
   },
   "source": [
    "<a id=\"content2\"></a>\n",
    "## 2 ) Preparing the Data"
   ]
  },
  {
   "cell_type": "markdown",
   "metadata": {},
   "source": [
    "#### In this section, you will write the code to read and prepare the data. The dataset used for this contest is the [Flowers Recognition Dataset](https://www.kaggle.com/alxmamaev/flowers-recognition) on Kaggle."
   ]
  },
  {
   "cell_type": "code",
   "execution_count": null,
   "metadata": {},
   "outputs": [],
   "source": []
  },
  {
   "cell_type": "markdown",
   "metadata": {
    "_uuid": "f8721fdb61bab5e515c8f5489876a97059a2b94f"
   },
   "source": [
    "## 2.1) The Image Size."
   ]
  },
  {
   "cell_type": "markdown",
   "metadata": {},
   "source": [
    "#### In the cell below, the image size to be used is specified.\n",
    "\n",
    "### For a fair judegment all the submissions need to use the same image size. Therefore, for this contest, the image size is fixed to 128.\n",
    "\n",
    "### Any submission that uses an image size other than 128 is subject to disqualification."
   ]
  },
  {
   "cell_type": "code",
   "execution_count": null,
   "metadata": {},
   "outputs": [],
   "source": [
    "IMG_SIZE=128"
   ]
  },
  {
   "cell_type": "markdown",
   "metadata": {},
   "source": [
    "## Usimg Image Generator for Generating DataSet\n"
   ]
  },
  {
   "cell_type": "code",
   "execution_count": 4,
   "metadata": {},
   "outputs": [
    {
     "name": "stdout",
     "output_type": "stream",
     "text": [
      " \u001b[0m\u001b[01;34manaconda3\u001b[0m/\r\n",
      " ans.csv\r\n",
      " app_reviews.ipynb\r\n",
      "'Collaborative Filtering.ipynb'\r\n",
      "'Decision Trees.ipynb'\r\n",
      " \u001b[01;34mDeepLearning_Contest\u001b[0m/\r\n",
      " \u001b[01;34mDesktop\u001b[0m/\r\n",
      "'Digit Recognizer.ipynb'\r\n",
      " \u001b[01;34mDocuments\u001b[0m/\r\n",
      " \u001b[01;34mDownloads\u001b[0m/\r\n",
      "'facial expresison detector.ipynb'\r\n",
      " Facial_Expression_Training.ipynb\r\n",
      " final_sub.csv\r\n",
      " \u001b[01;34mflowers\u001b[0m/\r\n",
      " \u001b[01;34mhack\u001b[0m/\r\n",
      " hackerearth.ipynb\r\n",
      "'Hierarchy classifier.ipynb'\r\n",
      " \u001b[01;34mhouse_pricing\u001b[0m/\r\n",
      "'House Pricing .ipynb'\r\n",
      " \u001b[01;34mjanata\u001b[0m/\r\n",
      " janatahack.ipynb\r\n",
      " \u001b[01;34mjupyter\u001b[0m/\r\n",
      " kaggle_c.ipynb\r\n",
      " kaggle_linear_regression.ipynb\r\n",
      " KNN.ipynb\r\n",
      " \u001b[01;34mloan_prediction\u001b[0m/\r\n",
      " loan_prediction.ipynb\r\n",
      " \u001b[01;34mMusic\u001b[0m/\r\n",
      " notebook.ipynb\r\n",
      " \u001b[01;34mPictures\u001b[0m/\r\n",
      " polynomialregression.ipynb\r\n",
      " \u001b[01;34mPublic\u001b[0m/\r\n",
      " \u001b[01;34mPycharmProjects\u001b[0m/\r\n",
      " randomforest.ipynb\r\n",
      " recommenders.ipynb\r\n",
      "'recommenders using linear regression.ipynb'\r\n",
      " res.csv\r\n",
      " sub.csv\r\n",
      " svm.ipynb\r\n",
      " \u001b[01;34mTemplates\u001b[0m/\r\n",
      " \u001b[01;34mtitanic\u001b[0m/\r\n",
      " trafficdlsystem.ipynb\r\n",
      " Untitled1.ipynb\r\n",
      " Untitled2.ipynb\r\n",
      " Untitled.ipynb\r\n",
      " \u001b[01;34mvalidation\u001b[0m/\r\n",
      " Verzeo-Major-Project.ipynb\r\n",
      " \u001b[01;34mVideos\u001b[0m/\r\n"
     ]
    }
   ],
   "source": [
    "ls"
   ]
  },
  {
   "cell_type": "code",
   "execution_count": 5,
   "metadata": {},
   "outputs": [
    {
     "data": {
      "text/plain": [
       "'/home/zeph'"
      ]
     },
     "execution_count": 5,
     "metadata": {},
     "output_type": "execute_result"
    }
   ],
   "source": [
    "pwd"
   ]
  },
  {
   "cell_type": "code",
   "execution_count": 7,
   "metadata": {},
   "outputs": [
    {
     "name": "stdout",
     "output_type": "stream",
     "text": [
      "Found 3657 images belonging to 5 classes.\n",
      "Found 666 images belonging to 5 classes.\n"
     ]
    }
   ],
   "source": [
    "train_datagen = ImageDataGenerator(\n",
    "        rescale=1./255,\n",
    "        shear_range=0.2,\n",
    "        zoom_range=0.2,\n",
    "        horizontal_flip=True)\n",
    "\n",
    "test_datagen = ImageDataGenerator(rescale=1./255)\n",
    "\n",
    "train_generator = train_datagen.flow_from_directory(\n",
    "        'flowers',\n",
    "        target_size=(128, 128),\n",
    "        batch_size=32,\n",
    "        class_mode='categorical')\n",
    "\n",
    "validation_generator = test_datagen.flow_from_directory(\n",
    "        'flowers_train',\n",
    "        target_size=(128, 128),\n",
    "        batch_size=32,\n",
    "        class_mode='categorical')"
   ]
  },
  {
   "cell_type": "code",
   "execution_count": null,
   "metadata": {},
   "outputs": [],
   "source": []
  },
  {
   "cell_type": "markdown",
   "metadata": {
    "_uuid": "7993c26fee12209d0fe31f0f034c7328b81571fc"
   },
   "source": [
    "## 3.1 ) Building the ConvNet Model"
   ]
  },
  {
   "cell_type": "code",
   "execution_count": 12,
   "metadata": {
    "_uuid": "01ac04f51fd20947335ec6aced2fd9828debe945",
    "id": "2a2cTLEt9zfm"
   },
   "outputs": [
    {
     "name": "stdout",
     "output_type": "stream",
     "text": [
      "Model: \"sequential_3\"\n",
      "_________________________________________________________________\n",
      "Layer (type)                 Output Shape              Param #   \n",
      "=================================================================\n",
      "conv2d_5 (Conv2D)            (None, 126, 126, 32)      896       \n",
      "_________________________________________________________________\n",
      "max_pooling2d_5 (MaxPooling2 (None, 63, 63, 32)        0         \n",
      "_________________________________________________________________\n",
      "conv2d_6 (Conv2D)            (None, 61, 61, 64)        18496     \n",
      "_________________________________________________________________\n",
      "max_pooling2d_6 (MaxPooling2 (None, 30, 30, 64)        0         \n",
      "_________________________________________________________________\n",
      "conv2d_7 (Conv2D)            (None, 28, 28, 128)       73856     \n",
      "_________________________________________________________________\n",
      "max_pooling2d_7 (MaxPooling2 (None, 14, 14, 128)       0         \n",
      "_________________________________________________________________\n",
      "conv2d_8 (Conv2D)            (None, 12, 12, 128)       147584    \n",
      "_________________________________________________________________\n",
      "max_pooling2d_8 (MaxPooling2 (None, 6, 6, 128)         0         \n",
      "_________________________________________________________________\n",
      "conv2d_9 (Conv2D)            (None, 4, 4, 128)         147584    \n",
      "_________________________________________________________________\n",
      "max_pooling2d_9 (MaxPooling2 (None, 2, 2, 128)         0         \n",
      "_________________________________________________________________\n",
      "flatten_1 (Flatten)          (None, 512)               0         \n",
      "_________________________________________________________________\n",
      "dropout_1 (Dropout)          (None, 512)               0         \n",
      "_________________________________________________________________\n",
      "dense_2 (Dense)              (None, 512)               262656    \n",
      "_________________________________________________________________\n",
      "dense_3 (Dense)              (None, 5)                 2565      \n",
      "=================================================================\n",
      "Total params: 653,637\n",
      "Trainable params: 653,637\n",
      "Non-trainable params: 0\n",
      "_________________________________________________________________\n"
     ]
    }
   ],
   "source": [
    "model =Sequential()\n",
    "model.add(Conv2D(32, (3, 3), activation='relu',\n",
    "input_shape=(128, 128, 3)))\n",
    "model.add(MaxPooling2D((2, 2)))\n",
    "model.add(Conv2D(64, (3, 3), activation='relu'))\n",
    "model.add(MaxPooling2D((2, 2)))\n",
    "model.add(Conv2D(128, (3, 3), activation='relu'))\n",
    "model.add(MaxPooling2D((2, 2)))\n",
    "model.add(Conv2D(128, (3, 3), activation='relu'))\n",
    "model.add(MaxPooling2D((2, 2)))\n",
    "model.add(Conv2D(128, (3, 3), activation='relu'))\n",
    "model.add(MaxPooling2D((2, 2)))\n",
    "model.add(Flatten())\n",
    "model.add(Dropout(0.4))\n",
    "model.add(Dense(512, activation='relu'))\n",
    "model.add(Dense(5, activation='softmax'))\n",
    "model.summary()"
   ]
  },
  {
   "cell_type": "markdown",
   "metadata": {
    "_uuid": "6f8e6bf822742f85e1733a7de806d738f7453a34"
   },
   "source": [
    "## 3.4 ) Compiling the Keras Model & Summary"
   ]
  },
  {
   "cell_type": "markdown",
   "metadata": {},
   "source": [
    "### You are free to use a different optimizer and different loss function and metrics."
   ]
  },
  {
   "cell_type": "code",
   "execution_count": 14,
   "metadata": {
    "_uuid": "172eb8e295a26fb76f338814798c73568456fd7f",
    "id": "d3TzLswd9zft"
   },
   "outputs": [],
   "source": [
    "model.compile(optimizer=RMSprop(lr=1e-4),loss='categorical_crossentropy',metrics=['accuracy'])"
   ]
  },
  {
   "cell_type": "code",
   "execution_count": 15,
   "metadata": {
    "_uuid": "fca74452122226685c34009fa718e0b62d3bdc78",
    "id": "-BO2A3xD9zfw",
    "outputId": "0bb66247-b0f5-405b-e98a-b5b1ac58ad85"
   },
   "outputs": [
    {
     "name": "stdout",
     "output_type": "stream",
     "text": [
      "Model: \"sequential_3\"\n",
      "_________________________________________________________________\n",
      "Layer (type)                 Output Shape              Param #   \n",
      "=================================================================\n",
      "conv2d_5 (Conv2D)            (None, 126, 126, 32)      896       \n",
      "_________________________________________________________________\n",
      "max_pooling2d_5 (MaxPooling2 (None, 63, 63, 32)        0         \n",
      "_________________________________________________________________\n",
      "conv2d_6 (Conv2D)            (None, 61, 61, 64)        18496     \n",
      "_________________________________________________________________\n",
      "max_pooling2d_6 (MaxPooling2 (None, 30, 30, 64)        0         \n",
      "_________________________________________________________________\n",
      "conv2d_7 (Conv2D)            (None, 28, 28, 128)       73856     \n",
      "_________________________________________________________________\n",
      "max_pooling2d_7 (MaxPooling2 (None, 14, 14, 128)       0         \n",
      "_________________________________________________________________\n",
      "conv2d_8 (Conv2D)            (None, 12, 12, 128)       147584    \n",
      "_________________________________________________________________\n",
      "max_pooling2d_8 (MaxPooling2 (None, 6, 6, 128)         0         \n",
      "_________________________________________________________________\n",
      "conv2d_9 (Conv2D)            (None, 4, 4, 128)         147584    \n",
      "_________________________________________________________________\n",
      "max_pooling2d_9 (MaxPooling2 (None, 2, 2, 128)         0         \n",
      "_________________________________________________________________\n",
      "flatten_1 (Flatten)          (None, 512)               0         \n",
      "_________________________________________________________________\n",
      "dropout_1 (Dropout)          (None, 512)               0         \n",
      "_________________________________________________________________\n",
      "dense_2 (Dense)              (None, 512)               262656    \n",
      "_________________________________________________________________\n",
      "dense_3 (Dense)              (None, 5)                 2565      \n",
      "=================================================================\n",
      "Total params: 653,637\n",
      "Trainable params: 653,637\n",
      "Non-trainable params: 0\n",
      "_________________________________________________________________\n"
     ]
    }
   ],
   "source": [
    "model.summary()"
   ]
  },
  {
   "cell_type": "markdown",
   "metadata": {
    "_uuid": "5fff9cd1c60d202293ec992d31548eb63604d9ba"
   },
   "source": [
    "## 3.5 ) Fitting on the Training set and making predcitons on the Validation set"
   ]
  },
  {
   "cell_type": "markdown",
   "metadata": {},
   "source": [
    "### Don't change anything in this cell. The cell should work fine!!!"
   ]
  },
  {
   "cell_type": "code",
   "execution_count": 16,
   "metadata": {
    "_uuid": "2736cb961572eaaa843417199d543b7016ed608a",
    "id": "YNVSuB6P9zf0",
    "outputId": "465a2fe5-64ec-4443-9cd1-a58574c62ab3"
   },
   "outputs": [
    {
     "name": "stdout",
     "output_type": "stream",
     "text": [
      "WARNING:tensorflow:From <ipython-input-16-748b4d391fa8>:1: Model.fit_generator (from tensorflow.python.keras.engine.training) is deprecated and will be removed in a future version.\n",
      "Instructions for updating:\n",
      "Please use Model.fit, which supports generators.\n",
      "Epoch 1/80\n",
      "100/100 [==============================] - ETA: 0s - loss: 1.5266 - accuracy: 0.3063WARNING:tensorflow:Your input ran out of data; interrupting training. Make sure that your dataset or generator can generate at least `steps_per_epoch * epochs` batches (in this case, 40 batches). You may need to use the repeat() function when building your dataset.\n",
      "100/100 [==============================] - 70s 702ms/step - loss: 1.5266 - accuracy: 0.3063 - val_loss: 1.3142 - val_accuracy: 0.4520\n",
      "Epoch 2/80\n",
      "100/100 [==============================] - ETA: 0s - loss: 1.2811 - accuracy: 0.4130WARNING:tensorflow:Your input ran out of data; interrupting training. Make sure that your dataset or generator can generate at least `steps_per_epoch * epochs` batches (in this case, 40 batches). You may need to use the repeat() function when building your dataset.\n",
      "100/100 [==============================] - 65s 651ms/step - loss: 1.2811 - accuracy: 0.4130 - val_loss: 1.3938 - val_accuracy: 0.4024\n",
      "Epoch 3/80\n",
      "100/100 [==============================] - ETA: 0s - loss: 1.2116 - accuracy: 0.4618WARNING:tensorflow:Your input ran out of data; interrupting training. Make sure that your dataset or generator can generate at least `steps_per_epoch * epochs` batches (in this case, 40 batches). You may need to use the repeat() function when building your dataset.\n",
      "100/100 [==============================] - 67s 668ms/step - loss: 1.2116 - accuracy: 0.4618 - val_loss: 1.1176 - val_accuracy: 0.5270\n",
      "Epoch 4/80\n",
      "100/100 [==============================] - ETA: 0s - loss: 1.1580 - accuracy: 0.5065WARNING:tensorflow:Your input ran out of data; interrupting training. Make sure that your dataset or generator can generate at least `steps_per_epoch * epochs` batches (in this case, 40 batches). You may need to use the repeat() function when building your dataset.\n",
      "100/100 [==============================] - 79s 794ms/step - loss: 1.1580 - accuracy: 0.5065 - val_loss: 1.0813 - val_accuracy: 0.5586\n",
      "Epoch 5/80\n",
      "100/100 [==============================] - ETA: 0s - loss: 1.1236 - accuracy: 0.5455WARNING:tensorflow:Your input ran out of data; interrupting training. Make sure that your dataset or generator can generate at least `steps_per_epoch * epochs` batches (in this case, 40 batches). You may need to use the repeat() function when building your dataset.\n",
      "100/100 [==============================] - 82s 825ms/step - loss: 1.1236 - accuracy: 0.5455 - val_loss: 1.0828 - val_accuracy: 0.5526\n",
      "Epoch 6/80\n",
      "100/100 [==============================] - ETA: 0s - loss: 1.0921 - accuracy: 0.5414WARNING:tensorflow:Your input ran out of data; interrupting training. Make sure that your dataset or generator can generate at least `steps_per_epoch * epochs` batches (in this case, 40 batches). You may need to use the repeat() function when building your dataset.\n",
      "100/100 [==============================] - 82s 819ms/step - loss: 1.0921 - accuracy: 0.5414 - val_loss: 1.0224 - val_accuracy: 0.5826\n",
      "Epoch 7/80\n",
      "100/100 [==============================] - ETA: 0s - loss: 1.0616 - accuracy: 0.5811WARNING:tensorflow:Your input ran out of data; interrupting training. Make sure that your dataset or generator can generate at least `steps_per_epoch * epochs` batches (in this case, 40 batches). You may need to use the repeat() function when building your dataset.\n",
      "100/100 [==============================] - 81s 808ms/step - loss: 1.0616 - accuracy: 0.5811 - val_loss: 0.9839 - val_accuracy: 0.6021\n",
      "Epoch 8/80\n",
      "100/100 [==============================] - ETA: 0s - loss: 1.0262 - accuracy: 0.5839WARNING:tensorflow:Your input ran out of data; interrupting training. Make sure that your dataset or generator can generate at least `steps_per_epoch * epochs` batches (in this case, 40 batches). You may need to use the repeat() function when building your dataset.\n",
      "100/100 [==============================] - 85s 849ms/step - loss: 1.0262 - accuracy: 0.5839 - val_loss: 1.0101 - val_accuracy: 0.5961\n",
      "Epoch 9/80\n",
      "100/100 [==============================] - ETA: 0s - loss: 1.0095 - accuracy: 0.5980WARNING:tensorflow:Your input ran out of data; interrupting training. Make sure that your dataset or generator can generate at least `steps_per_epoch * epochs` batches (in this case, 40 batches). You may need to use the repeat() function when building your dataset.\n",
      "100/100 [==============================] - 83s 826ms/step - loss: 1.0095 - accuracy: 0.5980 - val_loss: 0.9462 - val_accuracy: 0.6126\n",
      "Epoch 10/80\n",
      "100/100 [==============================] - ETA: 0s - loss: 0.9835 - accuracy: 0.6084WARNING:tensorflow:Your input ran out of data; interrupting training. Make sure that your dataset or generator can generate at least `steps_per_epoch * epochs` batches (in this case, 40 batches). You may need to use the repeat() function when building your dataset.\n",
      "100/100 [==============================] - 84s 836ms/step - loss: 0.9835 - accuracy: 0.6084 - val_loss: 0.9099 - val_accuracy: 0.6411\n",
      "Epoch 11/80\n",
      "100/100 [==============================] - ETA: 0s - loss: 0.9702 - accuracy: 0.6169WARNING:tensorflow:Your input ran out of data; interrupting training. Make sure that your dataset or generator can generate at least `steps_per_epoch * epochs` batches (in this case, 40 batches). You may need to use the repeat() function when building your dataset.\n",
      "100/100 [==============================] - 82s 825ms/step - loss: 0.9702 - accuracy: 0.6169 - val_loss: 0.9347 - val_accuracy: 0.6141\n",
      "Epoch 12/80\n",
      "100/100 [==============================] - ETA: 0s - loss: 0.9381 - accuracy: 0.6336WARNING:tensorflow:Your input ran out of data; interrupting training. Make sure that your dataset or generator can generate at least `steps_per_epoch * epochs` batches (in this case, 40 batches). You may need to use the repeat() function when building your dataset.\n",
      "100/100 [==============================] - 90s 896ms/step - loss: 0.9381 - accuracy: 0.6336 - val_loss: 0.9201 - val_accuracy: 0.6216\n",
      "Epoch 13/80\n",
      "100/100 [==============================] - ETA: 0s - loss: 0.9375 - accuracy: 0.6328WARNING:tensorflow:Your input ran out of data; interrupting training. Make sure that your dataset or generator can generate at least `steps_per_epoch * epochs` batches (in this case, 40 batches). You may need to use the repeat() function when building your dataset.\n",
      "100/100 [==============================] - 90s 903ms/step - loss: 0.9375 - accuracy: 0.6328 - val_loss: 0.8726 - val_accuracy: 0.6607\n",
      "Epoch 14/80\n",
      "100/100 [==============================] - ETA: 0s - loss: 0.9103 - accuracy: 0.6380WARNING:tensorflow:Your input ran out of data; interrupting training. Make sure that your dataset or generator can generate at least `steps_per_epoch * epochs` batches (in this case, 40 batches). You may need to use the repeat() function when building your dataset.\n",
      "100/100 [==============================] - 88s 878ms/step - loss: 0.9103 - accuracy: 0.6380 - val_loss: 0.9307 - val_accuracy: 0.6156\n",
      "Epoch 15/80\n",
      "100/100 [==============================] - ETA: 0s - loss: 0.8940 - accuracy: 0.6449WARNING:tensorflow:Your input ran out of data; interrupting training. Make sure that your dataset or generator can generate at least `steps_per_epoch * epochs` batches (in this case, 40 batches). You may need to use the repeat() function when building your dataset.\n",
      "100/100 [==============================] - 88s 879ms/step - loss: 0.8940 - accuracy: 0.6449 - val_loss: 0.9542 - val_accuracy: 0.6291\n",
      "Epoch 16/80\n",
      "100/100 [==============================] - ETA: 0s - loss: 0.8671 - accuracy: 0.6654WARNING:tensorflow:Your input ran out of data; interrupting training. Make sure that your dataset or generator can generate at least `steps_per_epoch * epochs` batches (in this case, 40 batches). You may need to use the repeat() function when building your dataset.\n",
      "100/100 [==============================] - 86s 861ms/step - loss: 0.8671 - accuracy: 0.6654 - val_loss: 0.9573 - val_accuracy: 0.6276\n",
      "Epoch 17/80\n"
     ]
    },
    {
     "name": "stdout",
     "output_type": "stream",
     "text": [
      "100/100 [==============================] - ETA: 0s - loss: 0.8682 - accuracy: 0.6632WARNING:tensorflow:Your input ran out of data; interrupting training. Make sure that your dataset or generator can generate at least `steps_per_epoch * epochs` batches (in this case, 40 batches). You may need to use the repeat() function when building your dataset.\n",
      "100/100 [==============================] - 88s 880ms/step - loss: 0.8682 - accuracy: 0.6632 - val_loss: 0.8881 - val_accuracy: 0.6321\n",
      "Epoch 18/80\n",
      "100/100 [==============================] - ETA: 0s - loss: 0.8432 - accuracy: 0.6664WARNING:tensorflow:Your input ran out of data; interrupting training. Make sure that your dataset or generator can generate at least `steps_per_epoch * epochs` batches (in this case, 40 batches). You may need to use the repeat() function when building your dataset.\n",
      "100/100 [==============================] - 88s 881ms/step - loss: 0.8432 - accuracy: 0.6664 - val_loss: 0.8123 - val_accuracy: 0.6757\n",
      "Epoch 19/80\n",
      "100/100 [==============================] - ETA: 0s - loss: 0.8538 - accuracy: 0.6726WARNING:tensorflow:Your input ran out of data; interrupting training. Make sure that your dataset or generator can generate at least `steps_per_epoch * epochs` batches (in this case, 40 batches). You may need to use the repeat() function when building your dataset.\n",
      "100/100 [==============================] - 86s 864ms/step - loss: 0.8538 - accuracy: 0.6726 - val_loss: 0.8068 - val_accuracy: 0.6667\n",
      "Epoch 20/80\n",
      "100/100 [==============================] - ETA: 0s - loss: 0.8220 - accuracy: 0.6893WARNING:tensorflow:Your input ran out of data; interrupting training. Make sure that your dataset or generator can generate at least `steps_per_epoch * epochs` batches (in this case, 40 batches). You may need to use the repeat() function when building your dataset.\n",
      "100/100 [==============================] - 81s 810ms/step - loss: 0.8220 - accuracy: 0.6893 - val_loss: 0.7885 - val_accuracy: 0.6802\n",
      "Epoch 21/80\n",
      "100/100 [==============================] - ETA: 0s - loss: 0.8152 - accuracy: 0.6824WARNING:tensorflow:Your input ran out of data; interrupting training. Make sure that your dataset or generator can generate at least `steps_per_epoch * epochs` batches (in this case, 40 batches). You may need to use the repeat() function when building your dataset.\n",
      "100/100 [==============================] - 81s 813ms/step - loss: 0.8152 - accuracy: 0.6824 - val_loss: 0.8720 - val_accuracy: 0.6652\n",
      "Epoch 22/80\n",
      "100/100 [==============================] - ETA: 0s - loss: 0.8256 - accuracy: 0.6821WARNING:tensorflow:Your input ran out of data; interrupting training. Make sure that your dataset or generator can generate at least `steps_per_epoch * epochs` batches (in this case, 40 batches). You may need to use the repeat() function when building your dataset.\n",
      "100/100 [==============================] - 85s 850ms/step - loss: 0.8256 - accuracy: 0.6821 - val_loss: 0.7524 - val_accuracy: 0.7162\n",
      "Epoch 23/80\n",
      "100/100 [==============================] - ETA: 0s - loss: 0.7963 - accuracy: 0.6922WARNING:tensorflow:Your input ran out of data; interrupting training. Make sure that your dataset or generator can generate at least `steps_per_epoch * epochs` batches (in this case, 40 batches). You may need to use the repeat() function when building your dataset.\n",
      "100/100 [==============================] - 85s 851ms/step - loss: 0.7963 - accuracy: 0.6922 - val_loss: 0.7799 - val_accuracy: 0.7012\n",
      "Epoch 24/80\n",
      "100/100 [==============================] - ETA: 0s - loss: 0.7964 - accuracy: 0.6865WARNING:tensorflow:Your input ran out of data; interrupting training. Make sure that your dataset or generator can generate at least `steps_per_epoch * epochs` batches (in this case, 40 batches). You may need to use the repeat() function when building your dataset.\n",
      "100/100 [==============================] - 88s 876ms/step - loss: 0.7964 - accuracy: 0.6865 - val_loss: 0.7699 - val_accuracy: 0.7057\n",
      "Epoch 25/80\n",
      "100/100 [==============================] - ETA: 0s - loss: 0.7641 - accuracy: 0.7054WARNING:tensorflow:Your input ran out of data; interrupting training. Make sure that your dataset or generator can generate at least `steps_per_epoch * epochs` batches (in this case, 40 batches). You may need to use the repeat() function when building your dataset.\n",
      "100/100 [==============================] - 88s 880ms/step - loss: 0.7641 - accuracy: 0.7054 - val_loss: 0.8931 - val_accuracy: 0.6832\n",
      "Epoch 26/80\n",
      "100/100 [==============================] - ETA: 0s - loss: 0.7634 - accuracy: 0.7019WARNING:tensorflow:Your input ran out of data; interrupting training. Make sure that your dataset or generator can generate at least `steps_per_epoch * epochs` batches (in this case, 40 batches). You may need to use the repeat() function when building your dataset.\n",
      "100/100 [==============================] - 92s 920ms/step - loss: 0.7634 - accuracy: 0.7019 - val_loss: 0.7071 - val_accuracy: 0.7387\n",
      "Epoch 27/80\n",
      "100/100 [==============================] - ETA: 0s - loss: 0.7606 - accuracy: 0.7022WARNING:tensorflow:Your input ran out of data; interrupting training. Make sure that your dataset or generator can generate at least `steps_per_epoch * epochs` batches (in this case, 40 batches). You may need to use the repeat() function when building your dataset.\n",
      "100/100 [==============================] - 86s 855ms/step - loss: 0.7606 - accuracy: 0.7022 - val_loss: 0.7547 - val_accuracy: 0.7102\n",
      "Epoch 28/80\n",
      "100/100 [==============================] - ETA: 0s - loss: 0.7550 - accuracy: 0.7076WARNING:tensorflow:Your input ran out of data; interrupting training. Make sure that your dataset or generator can generate at least `steps_per_epoch * epochs` batches (in this case, 40 batches). You may need to use the repeat() function when building your dataset.\n",
      "100/100 [==============================] - 81s 810ms/step - loss: 0.7550 - accuracy: 0.7076 - val_loss: 0.7597 - val_accuracy: 0.7057\n",
      "Epoch 29/80\n",
      "100/100 [==============================] - ETA: 0s - loss: 0.7427 - accuracy: 0.7104WARNING:tensorflow:Your input ran out of data; interrupting training. Make sure that your dataset or generator can generate at least `steps_per_epoch * epochs` batches (in this case, 40 batches). You may need to use the repeat() function when building your dataset.\n",
      "100/100 [==============================] - 84s 839ms/step - loss: 0.7427 - accuracy: 0.7104 - val_loss: 0.7434 - val_accuracy: 0.7072\n",
      "Epoch 30/80\n",
      "100/100 [==============================] - ETA: 0s - loss: 0.7345 - accuracy: 0.7151WARNING:tensorflow:Your input ran out of data; interrupting training. Make sure that your dataset or generator can generate at least `steps_per_epoch * epochs` batches (in this case, 40 batches). You may need to use the repeat() function when building your dataset.\n",
      "100/100 [==============================] - 87s 872ms/step - loss: 0.7345 - accuracy: 0.7151 - val_loss: 0.7057 - val_accuracy: 0.7252\n",
      "Epoch 31/80\n",
      "100/100 [==============================] - ETA: 0s - loss: 0.7341 - accuracy: 0.7180WARNING:tensorflow:Your input ran out of data; interrupting training. Make sure that your dataset or generator can generate at least `steps_per_epoch * epochs` batches (in this case, 40 batches). You may need to use the repeat() function when building your dataset.\n",
      "100/100 [==============================] - 83s 827ms/step - loss: 0.7341 - accuracy: 0.7180 - val_loss: 0.7178 - val_accuracy: 0.7267\n",
      "Epoch 32/80\n",
      "100/100 [==============================] - ETA: 0s - loss: 0.6979 - accuracy: 0.7296WARNING:tensorflow:Your input ran out of data; interrupting training. Make sure that your dataset or generator can generate at least `steps_per_epoch * epochs` batches (in this case, 40 batches). You may need to use the repeat() function when building your dataset.\n",
      "100/100 [==============================] - 82s 819ms/step - loss: 0.6979 - accuracy: 0.7296 - val_loss: 0.7391 - val_accuracy: 0.7057\n",
      "Epoch 33/80\n",
      "100/100 [==============================] - ETA: 0s - loss: 0.6999 - accuracy: 0.7268WARNING:tensorflow:Your input ran out of data; interrupting training. Make sure that your dataset or generator can generate at least `steps_per_epoch * epochs` batches (in this case, 40 batches). You may need to use the repeat() function when building your dataset.\n"
     ]
    },
    {
     "name": "stdout",
     "output_type": "stream",
     "text": [
      "100/100 [==============================] - 81s 814ms/step - loss: 0.6999 - accuracy: 0.7268 - val_loss: 0.7270 - val_accuracy: 0.7102\n",
      "Epoch 34/80\n",
      "100/100 [==============================] - ETA: 0s - loss: 0.7137 - accuracy: 0.7258WARNING:tensorflow:Your input ran out of data; interrupting training. Make sure that your dataset or generator can generate at least `steps_per_epoch * epochs` batches (in this case, 40 batches). You may need to use the repeat() function when building your dataset.\n",
      "100/100 [==============================] - 85s 848ms/step - loss: 0.7137 - accuracy: 0.7258 - val_loss: 0.7773 - val_accuracy: 0.7222\n",
      "Epoch 35/80\n",
      "100/100 [==============================] - ETA: 0s - loss: 0.6915 - accuracy: 0.7353WARNING:tensorflow:Your input ran out of data; interrupting training. Make sure that your dataset or generator can generate at least `steps_per_epoch * epochs` batches (in this case, 40 batches). You may need to use the repeat() function when building your dataset.\n",
      "100/100 [==============================] - 87s 871ms/step - loss: 0.6915 - accuracy: 0.7353 - val_loss: 0.7995 - val_accuracy: 0.6952\n",
      "Epoch 36/80\n",
      "100/100 [==============================] - ETA: 0s - loss: 0.6788 - accuracy: 0.7394WARNING:tensorflow:Your input ran out of data; interrupting training. Make sure that your dataset or generator can generate at least `steps_per_epoch * epochs` batches (in this case, 40 batches). You may need to use the repeat() function when building your dataset.\n",
      "100/100 [==============================] - 90s 901ms/step - loss: 0.6788 - accuracy: 0.7394 - val_loss: 0.6899 - val_accuracy: 0.7282\n",
      "Epoch 37/80\n",
      "100/100 [==============================] - ETA: 0s - loss: 0.6712 - accuracy: 0.7410WARNING:tensorflow:Your input ran out of data; interrupting training. Make sure that your dataset or generator can generate at least `steps_per_epoch * epochs` batches (in this case, 40 batches). You may need to use the repeat() function when building your dataset.\n",
      "100/100 [==============================] - 85s 845ms/step - loss: 0.6712 - accuracy: 0.7410 - val_loss: 0.7166 - val_accuracy: 0.7147\n",
      "Epoch 38/80\n",
      "100/100 [==============================] - ETA: 0s - loss: 0.6739 - accuracy: 0.7485WARNING:tensorflow:Your input ran out of data; interrupting training. Make sure that your dataset or generator can generate at least `steps_per_epoch * epochs` batches (in this case, 40 batches). You may need to use the repeat() function when building your dataset.\n",
      "100/100 [==============================] - 85s 852ms/step - loss: 0.6739 - accuracy: 0.7485 - val_loss: 0.7027 - val_accuracy: 0.7162\n",
      "Epoch 39/80\n",
      "100/100 [==============================] - ETA: 0s - loss: 0.6824 - accuracy: 0.7362WARNING:tensorflow:Your input ran out of data; interrupting training. Make sure that your dataset or generator can generate at least `steps_per_epoch * epochs` batches (in this case, 40 batches). You may need to use the repeat() function when building your dataset.\n",
      "100/100 [==============================] - 82s 825ms/step - loss: 0.6824 - accuracy: 0.7362 - val_loss: 0.7049 - val_accuracy: 0.7267\n",
      "Epoch 40/80\n",
      "100/100 [==============================] - ETA: 0s - loss: 0.6435 - accuracy: 0.7517WARNING:tensorflow:Your input ran out of data; interrupting training. Make sure that your dataset or generator can generate at least `steps_per_epoch * epochs` batches (in this case, 40 batches). You may need to use the repeat() function when building your dataset.\n",
      "100/100 [==============================] - 88s 877ms/step - loss: 0.6435 - accuracy: 0.7517 - val_loss: 0.7069 - val_accuracy: 0.7327\n",
      "Epoch 41/80\n",
      "100/100 [==============================] - ETA: 0s - loss: 0.6559 - accuracy: 0.7494WARNING:tensorflow:Your input ran out of data; interrupting training. Make sure that your dataset or generator can generate at least `steps_per_epoch * epochs` batches (in this case, 40 batches). You may need to use the repeat() function when building your dataset.\n",
      "100/100 [==============================] - 85s 846ms/step - loss: 0.6559 - accuracy: 0.7494 - val_loss: 0.6801 - val_accuracy: 0.7462\n",
      "Epoch 42/80\n",
      "100/100 [==============================] - ETA: 0s - loss: 0.6476 - accuracy: 0.7498WARNING:tensorflow:Your input ran out of data; interrupting training. Make sure that your dataset or generator can generate at least `steps_per_epoch * epochs` batches (in this case, 40 batches). You may need to use the repeat() function when building your dataset.\n",
      "100/100 [==============================] - 83s 828ms/step - loss: 0.6476 - accuracy: 0.7498 - val_loss: 0.7123 - val_accuracy: 0.7357\n",
      "Epoch 43/80\n",
      "100/100 [==============================] - ETA: 0s - loss: 0.6165 - accuracy: 0.7646WARNING:tensorflow:Your input ran out of data; interrupting training. Make sure that your dataset or generator can generate at least `steps_per_epoch * epochs` batches (in this case, 40 batches). You may need to use the repeat() function when building your dataset.\n",
      "100/100 [==============================] - 85s 854ms/step - loss: 0.6165 - accuracy: 0.7646 - val_loss: 0.7429 - val_accuracy: 0.7117\n",
      "Epoch 44/80\n",
      "100/100 [==============================] - ETA: 0s - loss: 0.6425 - accuracy: 0.7564WARNING:tensorflow:Your input ran out of data; interrupting training. Make sure that your dataset or generator can generate at least `steps_per_epoch * epochs` batches (in this case, 40 batches). You may need to use the repeat() function when building your dataset.\n",
      "100/100 [==============================] - 87s 869ms/step - loss: 0.6425 - accuracy: 0.7564 - val_loss: 0.6797 - val_accuracy: 0.7402\n",
      "Epoch 45/80\n",
      "100/100 [==============================] - ETA: 0s - loss: 0.6319 - accuracy: 0.7655WARNING:tensorflow:Your input ran out of data; interrupting training. Make sure that your dataset or generator can generate at least `steps_per_epoch * epochs` batches (in this case, 40 batches). You may need to use the repeat() function when building your dataset.\n",
      "100/100 [==============================] - 81s 806ms/step - loss: 0.6319 - accuracy: 0.7655 - val_loss: 0.7140 - val_accuracy: 0.7252\n",
      "Epoch 46/80\n",
      "100/100 [==============================] - ETA: 0s - loss: 0.6138 - accuracy: 0.7690WARNING:tensorflow:Your input ran out of data; interrupting training. Make sure that your dataset or generator can generate at least `steps_per_epoch * epochs` batches (in this case, 40 batches). You may need to use the repeat() function when building your dataset.\n",
      "100/100 [==============================] - 80s 802ms/step - loss: 0.6138 - accuracy: 0.7690 - val_loss: 0.6800 - val_accuracy: 0.7523\n",
      "Epoch 47/80\n",
      "100/100 [==============================] - ETA: 0s - loss: 0.6037 - accuracy: 0.7718WARNING:tensorflow:Your input ran out of data; interrupting training. Make sure that your dataset or generator can generate at least `steps_per_epoch * epochs` batches (in this case, 40 batches). You may need to use the repeat() function when building your dataset.\n",
      "100/100 [==============================] - 80s 802ms/step - loss: 0.6037 - accuracy: 0.7718 - val_loss: 0.8116 - val_accuracy: 0.7027\n",
      "Epoch 48/80\n",
      "100/100 [==============================] - ETA: 0s - loss: 0.6043 - accuracy: 0.7765WARNING:tensorflow:Your input ran out of data; interrupting training. Make sure that your dataset or generator can generate at least `steps_per_epoch * epochs` batches (in this case, 40 batches). You may need to use the repeat() function when building your dataset.\n",
      "100/100 [==============================] - 80s 803ms/step - loss: 0.6043 - accuracy: 0.7765 - val_loss: 0.7307 - val_accuracy: 0.7327\n",
      "Epoch 49/80\n",
      "100/100 [==============================] - ETA: 0s - loss: 0.6108 - accuracy: 0.7781WARNING:tensorflow:Your input ran out of data; interrupting training. Make sure that your dataset or generator can generate at least `steps_per_epoch * epochs` batches (in this case, 40 batches). You may need to use the repeat() function when building your dataset.\n",
      "100/100 [==============================] - 132s 1s/step - loss: 0.6108 - accuracy: 0.7781 - val_loss: 0.8465 - val_accuracy: 0.6982\n",
      "Epoch 50/80\n",
      "100/100 [==============================] - ETA: 0s - loss: 0.5937 - accuracy: 0.7784WARNING:tensorflow:Your input ran out of data; interrupting training. Make sure that your dataset or generator can generate at least `steps_per_epoch * epochs` batches (in this case, 40 batches). You may need to use the repeat() function when building your dataset.\n"
     ]
    },
    {
     "name": "stdout",
     "output_type": "stream",
     "text": [
      "100/100 [==============================] - 117s 1s/step - loss: 0.5937 - accuracy: 0.7784 - val_loss: 0.7385 - val_accuracy: 0.7132\n",
      "Epoch 51/80\n",
      "100/100 [==============================] - ETA: 0s - loss: 0.5969 - accuracy: 0.7756WARNING:tensorflow:Your input ran out of data; interrupting training. Make sure that your dataset or generator can generate at least `steps_per_epoch * epochs` batches (in this case, 40 batches). You may need to use the repeat() function when building your dataset.\n",
      "100/100 [==============================] - 110s 1s/step - loss: 0.5969 - accuracy: 0.7756 - val_loss: 0.7009 - val_accuracy: 0.7297\n",
      "Epoch 52/80\n",
      "100/100 [==============================] - ETA: 0s - loss: 0.5932 - accuracy: 0.7737WARNING:tensorflow:Your input ran out of data; interrupting training. Make sure that your dataset or generator can generate at least `steps_per_epoch * epochs` batches (in this case, 40 batches). You may need to use the repeat() function when building your dataset.\n",
      "100/100 [==============================] - 95s 954ms/step - loss: 0.5932 - accuracy: 0.7737 - val_loss: 0.6833 - val_accuracy: 0.7492\n",
      "Epoch 53/80\n",
      "100/100 [==============================] - ETA: 0s - loss: 0.5702 - accuracy: 0.7872WARNING:tensorflow:Your input ran out of data; interrupting training. Make sure that your dataset or generator can generate at least `steps_per_epoch * epochs` batches (in this case, 40 batches). You may need to use the repeat() function when building your dataset.\n",
      "100/100 [==============================] - 90s 900ms/step - loss: 0.5702 - accuracy: 0.7872 - val_loss: 0.9008 - val_accuracy: 0.6712\n",
      "Epoch 54/80\n",
      "100/100 [==============================] - ETA: 0s - loss: 0.5905 - accuracy: 0.7753WARNING:tensorflow:Your input ran out of data; interrupting training. Make sure that your dataset or generator can generate at least `steps_per_epoch * epochs` batches (in this case, 40 batches). You may need to use the repeat() function when building your dataset.\n",
      "100/100 [==============================] - 90s 899ms/step - loss: 0.5905 - accuracy: 0.7753 - val_loss: 0.7458 - val_accuracy: 0.7237\n",
      "Epoch 55/80\n",
      "100/100 [==============================] - ETA: 0s - loss: 0.5501 - accuracy: 0.7881WARNING:tensorflow:Your input ran out of data; interrupting training. Make sure that your dataset or generator can generate at least `steps_per_epoch * epochs` batches (in this case, 40 batches). You may need to use the repeat() function when building your dataset.\n",
      "100/100 [==============================] - 91s 911ms/step - loss: 0.5501 - accuracy: 0.7881 - val_loss: 0.7574 - val_accuracy: 0.7267\n",
      "Epoch 56/80\n",
      "100/100 [==============================] - ETA: 0s - loss: 0.5640 - accuracy: 0.7838WARNING:tensorflow:Your input ran out of data; interrupting training. Make sure that your dataset or generator can generate at least `steps_per_epoch * epochs` batches (in this case, 40 batches). You may need to use the repeat() function when building your dataset.\n",
      "100/100 [==============================] - 90s 900ms/step - loss: 0.5640 - accuracy: 0.7838 - val_loss: 0.6994 - val_accuracy: 0.7447\n",
      "Epoch 57/80\n",
      "100/100 [==============================] - ETA: 0s - loss: 0.5517 - accuracy: 0.7935WARNING:tensorflow:Your input ran out of data; interrupting training. Make sure that your dataset or generator can generate at least `steps_per_epoch * epochs` batches (in this case, 40 batches). You may need to use the repeat() function when building your dataset.\n",
      "100/100 [==============================] - 90s 902ms/step - loss: 0.5517 - accuracy: 0.7935 - val_loss: 0.7205 - val_accuracy: 0.7372\n",
      "Epoch 58/80\n",
      "100/100 [==============================] - ETA: 0s - loss: 0.5619 - accuracy: 0.7878WARNING:tensorflow:Your input ran out of data; interrupting training. Make sure that your dataset or generator can generate at least `steps_per_epoch * epochs` batches (in this case, 40 batches). You may need to use the repeat() function when building your dataset.\n",
      "100/100 [==============================] - 91s 914ms/step - loss: 0.5619 - accuracy: 0.7878 - val_loss: 0.7143 - val_accuracy: 0.7252\n",
      "Epoch 59/80\n",
      "100/100 [==============================] - ETA: 0s - loss: 0.5571 - accuracy: 0.7982WARNING:tensorflow:Your input ran out of data; interrupting training. Make sure that your dataset or generator can generate at least `steps_per_epoch * epochs` batches (in this case, 40 batches). You may need to use the repeat() function when building your dataset.\n",
      "100/100 [==============================] - 91s 911ms/step - loss: 0.5571 - accuracy: 0.7982 - val_loss: 0.6820 - val_accuracy: 0.7523\n",
      "Epoch 60/80\n",
      "100/100 [==============================] - ETA: 0s - loss: 0.5358 - accuracy: 0.8030WARNING:tensorflow:Your input ran out of data; interrupting training. Make sure that your dataset or generator can generate at least `steps_per_epoch * epochs` batches (in this case, 40 batches). You may need to use the repeat() function when building your dataset.\n",
      "100/100 [==============================] - 91s 912ms/step - loss: 0.5358 - accuracy: 0.8030 - val_loss: 0.7593 - val_accuracy: 0.7207\n",
      "Epoch 61/80\n",
      "100/100 [==============================] - ETA: 0s - loss: 0.5476 - accuracy: 0.8020WARNING:tensorflow:Your input ran out of data; interrupting training. Make sure that your dataset or generator can generate at least `steps_per_epoch * epochs` batches (in this case, 40 batches). You may need to use the repeat() function when building your dataset.\n",
      "100/100 [==============================] - 92s 917ms/step - loss: 0.5476 - accuracy: 0.8020 - val_loss: 0.7355 - val_accuracy: 0.7222\n",
      "Epoch 62/80\n",
      "100/100 [==============================] - ETA: 0s - loss: 0.5278 - accuracy: 0.7986WARNING:tensorflow:Your input ran out of data; interrupting training. Make sure that your dataset or generator can generate at least `steps_per_epoch * epochs` batches (in this case, 40 batches). You may need to use the repeat() function when building your dataset.\n",
      "100/100 [==============================] - 93s 929ms/step - loss: 0.5278 - accuracy: 0.7986 - val_loss: 0.6584 - val_accuracy: 0.7432\n",
      "Epoch 63/80\n",
      "100/100 [==============================] - ETA: 0s - loss: 0.5225 - accuracy: 0.8061WARNING:tensorflow:Your input ran out of data; interrupting training. Make sure that your dataset or generator can generate at least `steps_per_epoch * epochs` batches (in this case, 40 batches). You may need to use the repeat() function when building your dataset.\n",
      "100/100 [==============================] - 94s 944ms/step - loss: 0.5225 - accuracy: 0.8061 - val_loss: 0.7798 - val_accuracy: 0.7282\n",
      "Epoch 64/80\n",
      "100/100 [==============================] - ETA: 0s - loss: 0.5247 - accuracy: 0.8083WARNING:tensorflow:Your input ran out of data; interrupting training. Make sure that your dataset or generator can generate at least `steps_per_epoch * epochs` batches (in this case, 40 batches). You may need to use the repeat() function when building your dataset.\n",
      "100/100 [==============================] - 93s 934ms/step - loss: 0.5247 - accuracy: 0.8083 - val_loss: 0.6628 - val_accuracy: 0.7568\n",
      "Epoch 65/80\n",
      "100/100 [==============================] - ETA: 0s - loss: 0.5233 - accuracy: 0.8042WARNING:tensorflow:Your input ran out of data; interrupting training. Make sure that your dataset or generator can generate at least `steps_per_epoch * epochs` batches (in this case, 40 batches). You may need to use the repeat() function when building your dataset.\n",
      "100/100 [==============================] - 92s 922ms/step - loss: 0.5233 - accuracy: 0.8042 - val_loss: 0.7690 - val_accuracy: 0.7432\n",
      "Epoch 66/80\n",
      "100/100 [==============================] - ETA: 0s - loss: 0.4902 - accuracy: 0.8127WARNING:tensorflow:Your input ran out of data; interrupting training. Make sure that your dataset or generator can generate at least `steps_per_epoch * epochs` batches (in this case, 40 batches). You may need to use the repeat() function when building your dataset.\n",
      "100/100 [==============================] - 92s 921ms/step - loss: 0.4902 - accuracy: 0.8127 - val_loss: 0.7031 - val_accuracy: 0.7432\n",
      "Epoch 67/80\n",
      "100/100 [==============================] - ETA: 0s - loss: 0.5146 - accuracy: 0.8042WARNING:tensorflow:Your input ran out of data; interrupting training. Make sure that your dataset or generator can generate at least `steps_per_epoch * epochs` batches (in this case, 40 batches). You may need to use the repeat() function when building your dataset.\n"
     ]
    },
    {
     "name": "stdout",
     "output_type": "stream",
     "text": [
      "100/100 [==============================] - 92s 925ms/step - loss: 0.5146 - accuracy: 0.8042 - val_loss: 0.7215 - val_accuracy: 0.7432\n",
      "Epoch 68/80\n",
      "100/100 [==============================] - ETA: 0s - loss: 0.5030 - accuracy: 0.8147WARNING:tensorflow:Your input ran out of data; interrupting training. Make sure that your dataset or generator can generate at least `steps_per_epoch * epochs` batches (in this case, 40 batches). You may need to use the repeat() function when building your dataset.\n",
      "100/100 [==============================] - 94s 938ms/step - loss: 0.5030 - accuracy: 0.8147 - val_loss: 0.6651 - val_accuracy: 0.7477\n",
      "Epoch 69/80\n",
      "100/100 [==============================] - ETA: 0s - loss: 0.5059 - accuracy: 0.8096WARNING:tensorflow:Your input ran out of data; interrupting training. Make sure that your dataset or generator can generate at least `steps_per_epoch * epochs` batches (in this case, 40 batches). You may need to use the repeat() function when building your dataset.\n",
      "100/100 [==============================] - 93s 928ms/step - loss: 0.5059 - accuracy: 0.8096 - val_loss: 0.6966 - val_accuracy: 0.7553\n",
      "Epoch 70/80\n",
      "100/100 [==============================] - ETA: 0s - loss: 0.4840 - accuracy: 0.8178WARNING:tensorflow:Your input ran out of data; interrupting training. Make sure that your dataset or generator can generate at least `steps_per_epoch * epochs` batches (in this case, 40 batches). You may need to use the repeat() function when building your dataset.\n",
      "100/100 [==============================] - 96s 961ms/step - loss: 0.4840 - accuracy: 0.8178 - val_loss: 0.7190 - val_accuracy: 0.7658\n",
      "Epoch 71/80\n",
      "100/100 [==============================] - ETA: 0s - loss: 0.4929 - accuracy: 0.8165WARNING:tensorflow:Your input ran out of data; interrupting training. Make sure that your dataset or generator can generate at least `steps_per_epoch * epochs` batches (in this case, 40 batches). You may need to use the repeat() function when building your dataset.\n",
      "100/100 [==============================] - 92s 923ms/step - loss: 0.4929 - accuracy: 0.8165 - val_loss: 0.7000 - val_accuracy: 0.7462\n",
      "Epoch 72/80\n",
      "100/100 [==============================] - ETA: 0s - loss: 0.4859 - accuracy: 0.8206WARNING:tensorflow:Your input ran out of data; interrupting training. Make sure that your dataset or generator can generate at least `steps_per_epoch * epochs` batches (in this case, 40 batches). You may need to use the repeat() function when building your dataset.\n",
      "100/100 [==============================] - 93s 928ms/step - loss: 0.4859 - accuracy: 0.8206 - val_loss: 0.7596 - val_accuracy: 0.7357\n",
      "Epoch 73/80\n",
      "100/100 [==============================] - ETA: 0s - loss: 0.4701 - accuracy: 0.8247WARNING:tensorflow:Your input ran out of data; interrupting training. Make sure that your dataset or generator can generate at least `steps_per_epoch * epochs` batches (in this case, 40 batches). You may need to use the repeat() function when building your dataset.\n",
      "100/100 [==============================] - 87s 874ms/step - loss: 0.4701 - accuracy: 0.8247 - val_loss: 0.7046 - val_accuracy: 0.7643\n",
      "Epoch 74/80\n",
      "100/100 [==============================] - ETA: 0s - loss: 0.4890 - accuracy: 0.8240WARNING:tensorflow:Your input ran out of data; interrupting training. Make sure that your dataset or generator can generate at least `steps_per_epoch * epochs` batches (in this case, 40 batches). You may need to use the repeat() function when building your dataset.\n",
      "100/100 [==============================] - 88s 876ms/step - loss: 0.4890 - accuracy: 0.8240 - val_loss: 0.6988 - val_accuracy: 0.7613\n",
      "Epoch 75/80\n",
      "100/100 [==============================] - ETA: 0s - loss: 0.4706 - accuracy: 0.8222WARNING:tensorflow:Your input ran out of data; interrupting training. Make sure that your dataset or generator can generate at least `steps_per_epoch * epochs` batches (in this case, 40 batches). You may need to use the repeat() function when building your dataset.\n",
      "100/100 [==============================] - 87s 873ms/step - loss: 0.4706 - accuracy: 0.8222 - val_loss: 0.7147 - val_accuracy: 0.7492\n",
      "Epoch 76/80\n",
      "100/100 [==============================] - ETA: 0s - loss: 0.4620 - accuracy: 0.8303WARNING:tensorflow:Your input ran out of data; interrupting training. Make sure that your dataset or generator can generate at least `steps_per_epoch * epochs` batches (in this case, 40 batches). You may need to use the repeat() function when building your dataset.\n",
      "100/100 [==============================] - 87s 869ms/step - loss: 0.4620 - accuracy: 0.8303 - val_loss: 0.9428 - val_accuracy: 0.7072\n",
      "Epoch 77/80\n",
      "100/100 [==============================] - ETA: 0s - loss: 0.4719 - accuracy: 0.8269WARNING:tensorflow:Your input ran out of data; interrupting training. Make sure that your dataset or generator can generate at least `steps_per_epoch * epochs` batches (in this case, 40 batches). You may need to use the repeat() function when building your dataset.\n",
      "100/100 [==============================] - 88s 879ms/step - loss: 0.4719 - accuracy: 0.8269 - val_loss: 0.7022 - val_accuracy: 0.7673\n",
      "Epoch 78/80\n",
      "100/100 [==============================] - ETA: 0s - loss: 0.4598 - accuracy: 0.8244WARNING:tensorflow:Your input ran out of data; interrupting training. Make sure that your dataset or generator can generate at least `steps_per_epoch * epochs` batches (in this case, 40 batches). You may need to use the repeat() function when building your dataset.\n",
      "100/100 [==============================] - 89s 893ms/step - loss: 0.4598 - accuracy: 0.8244 - val_loss: 0.6858 - val_accuracy: 0.7568\n",
      "Epoch 79/80\n",
      "100/100 [==============================] - ETA: 0s - loss: 0.4540 - accuracy: 0.8392WARNING:tensorflow:Your input ran out of data; interrupting training. Make sure that your dataset or generator can generate at least `steps_per_epoch * epochs` batches (in this case, 40 batches). You may need to use the repeat() function when building your dataset.\n",
      "100/100 [==============================] - 88s 876ms/step - loss: 0.4540 - accuracy: 0.8392 - val_loss: 0.7555 - val_accuracy: 0.7402\n",
      "Epoch 80/80\n",
      "100/100 [==============================] - ETA: 0s - loss: 0.4581 - accuracy: 0.8303WARNING:tensorflow:Your input ran out of data; interrupting training. Make sure that your dataset or generator can generate at least `steps_per_epoch * epochs` batches (in this case, 40 batches). You may need to use the repeat() function when building your dataset.\n",
      "100/100 [==============================] - 88s 879ms/step - loss: 0.4581 - accuracy: 0.8303 - val_loss: 0.7527 - val_accuracy: 0.7267\n"
     ]
    }
   ],
   "source": [
    "History=model.fit_generator(train_generator,steps_per_epoch=100,epochs=80,\n",
    "                           validation_data=validation_generator,validation_steps=40)"
   ]
  },
  {
   "cell_type": "markdown",
   "metadata": {
    "_uuid": "6e0f2de580cd5eadacda79a06250b3b188987004"
   },
   "source": [
    "<a id=\"content4\"></a>\n",
    "## 4 ) Evaluating the Model Performance"
   ]
  },
  {
   "cell_type": "markdown",
   "metadata": {},
   "source": [
    "#### This section is to evaluate the model that you have build. \n",
    "\n",
    "### Just run the following two cells that plot the 'Model Loss vs Epochs' and the 'Model Accuracy vs Epochs'."
   ]
  },
  {
   "cell_type": "code",
   "execution_count": 17,
   "metadata": {
    "_uuid": "0fddff49b7df1420982bd3a05a63dd38b721e743",
    "id": "5zyO2Sdj9zf2",
    "outputId": "2fdeb1ee-3dc6-45de-eba2-6b672e537ab1"
   },
   "outputs": [
    {
     "data": {
      "image/png": "[encoded data removed]",
      "text/plain": [
       "<Figure size 432x288 with 1 Axes>"
      ]
     },
     "metadata": {},
     "output_type": "display_data"
    }
   ],
   "source": [
    "plt.plot(History.history['loss'])\n",
    "plt.plot(History.history['val_loss'])\n",
    "plt.title('Model Loss vs Epochs')\n",
    "plt.ylabel('Loss')\n",
    "plt.xlabel('Epochs')\n",
    "plt.legend(['train', 'test'])\n",
    "plt.show()"
   ]
  },
  {
   "cell_type": "code",
   "execution_count": 18,
   "metadata": {
    "_uuid": "22dc277aaaeb3f016bfaa19c1abd612442af49e8",
    "id": "N-JDEQGkuQgp",
    "outputId": "4ec51c19-4870-4b35-d739-493666ac9589"
   },
   "outputs": [
    {
     "data": {
      "image/png": "[encoded data removed]",
      "text/plain": [
       "<Figure size 432x288 with 1 Axes>"
      ]
     },
     "metadata": {},
     "output_type": "display_data"
    }
   ],
   "source": [
    "plt.plot(History.history['accuracy'])\n",
    "plt.plot(History.history['val_accuracy'])\n",
    "plt.title('Model Accuracy vs Epochs')\n",
    "plt.ylabel('Accuracy')\n",
    "plt.xlabel('Epochs')\n",
    "plt.legend(['train', 'test'])\n",
    "plt.show()\n"
   ]
  },
  {
   "cell_type": "markdown",
   "metadata": {
    "_uuid": "87527d690141efa73cd11a33cac0780b0b4f8374"
   },
   "source": [
    "#  THE END."
   ]
  },
  {
   "cell_type": "code",
   "execution_count": null,
   "metadata": {
    "_uuid": "b8952f9ac2af66841a9c000126de56b44301d3ce"
   },
   "outputs": [],
   "source": []
  }
 ],
 "metadata": {
  "kernelspec": {
   "display_name": "Python 3",
   "language": "python",
   "name": "python3"
  },
  "language_info": {
   "codemirror_mode": {
    "name": "ipython",
    "version": 3
   },
   "file_extension": ".py",
   "mimetype": "text/x-python",
   "name": "python",
   "nbconvert_exporter": "python",
   "pygments_lexer": "ipython3",
   "version": "3.8.3"
  }
 },
 "nbformat": 4,
 "nbformat_minor": 4
}
